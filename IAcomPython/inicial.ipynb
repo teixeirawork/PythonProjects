{
 "cells": [
  {
   "cell_type": "code",
   "execution_count": null,
   "id": "af4f5acb",
   "metadata": {},
   "outputs": [],
   "source": [
    "# importar a base de dados para ser análisada pela inteligencia artificial\n",
    "import pandas as pd\n",
    " \n",
    "tabela = pd.read_csv('clientes.csv')\n",
    "#mostrar a base de dados e informações da tabela\n",
    "display(tabela)\n",
    "display(tabela.info())\n",
    "\n",
    "\n",
    "# analisar a base de dados para preaparar para o treinamento da inteligencia artificial\n",
    "    # profissao  : string\n",
    "    # mix_credito : string\n",
    "    # comportamento_pagamento : string\n",
    "\n",
    "#  intelgencia artificial não trabalha com string, então precisamos transformar os dados categoricos em numericos\n",
    "from sklearn.preprocessing import LabelEncoder\n",
    "\n",
    "codificador1 = LabelEncoder()\n",
    "# profissao: string\n",
    "tabela['profissao'] = codificador1.fit_transform(tabela['profissao'])\n",
    "\n",
    "codificador2 = LabelEncoder()\n",
    "# mix_credito : string\n",
    "tabela['mix_credito'] = codificador2.fit_transform(tabela['mix_credito'])\n",
    "\n",
    "codificador3 = LabelEncoder()\n",
    "# comportamento_pagamento : string\n",
    "tabela['comportamento_pagamento'] = codificador3.fit_transform(tabela['comportamento_pagamento'])\n",
    "\n",
    "\n"
   ]
  }
 ],
 "metadata": {
  "kernelspec": {
   "display_name": "Python 3",
   "language": "python",
   "name": "python3"
  },
  "language_info": {
   "codemirror_mode": {
    "name": "ipython",
    "version": 3
   },
   "file_extension": ".py",
   "mimetype": "text/x-python",
   "name": "python",
   "nbconvert_exporter": "python",
   "pygments_lexer": "ipython3",
   "version": "3.13.6"
  }
 },
 "nbformat": 4,
 "nbformat_minor": 5
}
